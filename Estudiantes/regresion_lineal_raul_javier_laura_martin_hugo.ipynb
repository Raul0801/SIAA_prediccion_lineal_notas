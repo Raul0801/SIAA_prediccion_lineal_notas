{
 "cells": [
  {
   "cell_type": "markdown",
   "metadata": {},
   "source": [
    "# SIAA: Regresión lineal "
   ]
  },
  {
   "cell_type": "markdown",
   "metadata": {},
   "source": [
    "## Autores: Javier, Laura, Martín, Hugo, Raúl"
   ]
  },
  {
   "cell_type": "markdown",
   "metadata": {},
   "source": [
    "En este notebook haremos un estudio paso por paso de los datos de los estudiantes de un curso de mátematicas.\n",
    "\n",
    "Probaremos con distintos modelos, veremos cual se ajusta mejor y haremos una predicción.\n",
    "\n",
    "Enlace del Dataset del curso de Matemáticas obtenido: https://www.kaggle.com/datasets/devansodariya/student-performance-data\n",
    "\n",
    "Enlace con la explicación de las columnas: https://archive.ics.uci.edu/dataset/320/student+performance"
   ]
  },
  {
   "cell_type": "markdown",
   "metadata": {},
   "source": [
    "#### Columnas de student-mat.csv (curso de Matemáticas):\n",
    "\n",
    "**school** - escuela del estudiante (binario: \"GP\" - Gabriel Pereira o \"MS\" - Mousinho da Silveira)\n",
    "\n",
    "**sex** - sexo del estudiante (binario: \"F\" - femenino o \"M\" - masculino)\n",
    "\n",
    "**age** - edad del estudiante (numérico: de 15 a 22)\n",
    "\n",
    "**address** - tipo de dirección del hogar del estudiante (binario: \"U\" - urbano o \"R\" - rural)\n",
    "\n",
    "**famsize** - tamaño de la familia (binario: \"LE3\" - menor o igual a 3 o \"GT3\" - mayor que 3)\n",
    "\n",
    "**Pstatus** - estado de convivencia de los padres (binario: \"T\" - juntos o \"A\" - separados)\n",
    "\n",
    "**Medu** - nivel educativo de la madre (numérico: 0 - ninguno, 1 - educación primaria (4º grado), 2 - de 5º a 9º grado, 3 - educación secundaria o 4 - educación superior)\n",
    "\n",
    "**Fedu** - nivel educativo del padre (numérico: 0 - ninguno, 1 - educación primaria (4º grado), 2 - de 5º a 9º grado, 3 - educación secundaria o 4 - educación superior)\n",
    "\n",
    "**Mjob** - ocupación de la madre (nominal: \"teacher\", relacionado con \"health\" (salud), servicios civiles \"services\" (ej. administración o policía), \"at_home\" o \"other\")\n",
    "\n",
    "**Fjob** - ocupación del padre (nominal: \"teacher\", relacionado con \"health\" (salud), servicios civiles \"services\" (ej. administración o policía), \"at_home\" o \"other\")\n",
    "\n",
    "**reason** - motivo para elegir esta escuela (nominal: cercana a \"home\", \"reputation\" de la escuela, preferencia por el \"course\" o \"other\")\n",
    "\n",
    "**guardian** - tutor del estudiante (nominal: \"mother\", \"father\" o \"other\")\n",
    "\n",
    "**traveltime** - tiempo de viaje de casa a la escuela (numérico: 1 - <15 min., 2 - 15 a 30 min., 3 - 30 min. a 1 hora, o 4 - >1 hora)\n",
    "\n",
    "**studytime** - tiempo de estudio semanal (numérico: 1 - <2 horas, 2 - 2 a 5 horas, 3 - 5 a 10 horas, o 4 - >10 horas)\n",
    "\n",
    "**failures** - número de asignaturas reprobadas en el pasado (numérico: n si 1<=n<3, de lo contrario 4)\n",
    "\n",
    "**schoolsup** - apoyo educativo adicional (binario: yes o no)\n",
    "\n",
    "**famsup** - apoyo educativo por parte de la familia (binario: yes o no)\n",
    "\n",
    "**paid** - clases particulares pagadas en la materia del curso (Matemáticas o Portugués) (binario: yes o no)\n",
    "\n",
    "**activities** - participación en actividades extracurriculares (binario: yes o no)\n",
    "\n",
    "**nursery** - asistencia a guardería (binario: yes o no)\n",
    "\n",
    "**higher** - desea cursar educación superior (binario: yes o no)\n",
    "\n",
    "**internet** - acceso a Internet en casa (binario: yes o no)\n",
    "\n",
    "**romantic** - tiene una relación romántica (binario: yes o no)\n",
    "\n",
    "**famrel** calidad de las relaciones familiares (numérico: de 1 - muy mala a 5 - excelente)\n",
    "\n",
    "**freetime** tiempo libre después de la escuela (numérico: de 1 - muy bajo a 5 - muy alto)\n",
    "\n",
    "**goout** - frecuencia de salidas con amigos (numérico: de 1 - muy baja a 5 - muy alta)\n",
    "\n",
    "**Dalc** - consumo de alcohol en días laborales (numérico: de 1 - muy bajo a 5 - muy alto)\n",
    "\n",
    "**Walc** - consumo de alcohol los fines de semana (numérico: de 1 - muy bajo a 5 - muy alto)\n",
    "\n",
    "**health** - estado de salud actual (numérico: de 1 - muy malo a 5 - muy bueno)\n",
    "\n",
    "**absences** - número de ausencias escolares (numérico: de 0 a 93)\n",
    "\n",
    "#### Calificaciones del curso:\n",
    "\n",
    "**G1** - calificación del primer período (numérico: de 0 a 20)\n",
    "\n",
    "**G2** - calificación del segundo período (numérico: de 0 a 20)\n",
    "\n",
    "**G3** - calificación final (numérico: de 0 a 20)"
   ]
  },
  {
   "cell_type": "markdown",
   "metadata": {},
   "source": [
    "Importamos todas las librerías necesarias para realizar las regresiones lineales con diferentes modelos de la misma y las predicciones con hiperparámetros"
   ]
  },
  {
   "cell_type": "code",
   "execution_count": 1,
   "metadata": {},
   "outputs": [],
   "source": [
    "import pandas as pd\n",
    "import matplotlib.pyplot as plt\n",
    "from sklearn.preprocessing import OneHotEncoder\n",
    "from sklearn.preprocessing import StandardScaler\n",
    "from sklearn.model_selection import train_test_split, RandomizedSearchCV\n",
    "from sklearn.metrics import mean_squared_error, r2_score\n",
    "from sklearn.linear_model import LinearRegression, Lasso, Ridge, ElasticNet\n",
    "from scipy.stats import uniform"
   ]
  },
  {
   "cell_type": "markdown",
   "metadata": {},
   "source": [
    "### Atributos categóricos:\n",
    "\n",
    "El dataframe original tiene muchas columnas categóricas, les aplicaremos un OneHotEncoder para pasarlas a numéricas"
   ]
  },
  {
   "cell_type": "code",
   "execution_count": 2,
   "metadata": {},
   "outputs": [],
   "source": [
    "# Cargar el dataset\n",
    "dataset = pd.read_csv('student-mat.csv', delimiter=';')\n",
    "\n",
    "# Función para aplicar el OneHotEncoder\n",
    "def encoder(columna, df):\n",
    "    encoder = OneHotEncoder()\n",
    "\n",
    "    colegios_valores_encoded = encoder.fit_transform(df[[columna]])\n",
    "    colegios_columnas_encoded = encoder.get_feature_names_out([columna])\n",
    "    encoded_df = pd.DataFrame(colegios_valores_encoded.toarray(), columns=colegios_columnas_encoded)\n",
    "\n",
    "    df = pd.concat([df, encoded_df], axis=1)\n",
    "    df = df.drop(columns=[columna])\n",
    "    return df"
   ]
  },
  {
   "cell_type": "markdown",
   "metadata": {},
   "source": [
    "Podemos ver las columnas que son de tipo objeto (Strings)"
   ]
  },
  {
   "cell_type": "code",
   "execution_count": 3,
   "metadata": {},
   "outputs": [
    {
     "name": "stdout",
     "output_type": "stream",
     "text": [
      "['school', 'sex', 'address', 'famsize', 'Pstatus', 'Mjob', 'Fjob', 'reason', 'guardian', 'schoolsup', 'famsup', 'paid', 'activities', 'nursery', 'higher', 'internet', 'romantic']\n"
     ]
    }
   ],
   "source": [
    "# Vemos las columnas categóricas\n",
    "columnas_obj = []\n",
    "\n",
    "for columna in dataset.columns:\n",
    "    if dataset[columna].dtype == object:\n",
    "        columnas_obj.append(columna)\n",
    "\n",
    "print(columnas_obj)"
   ]
  },
  {
   "cell_type": "markdown",
   "metadata": {},
   "source": [
    "Aplicamos la función a todas las columnas categóricas"
   ]
  },
  {
   "cell_type": "code",
   "execution_count": 4,
   "metadata": {},
   "outputs": [],
   "source": [
    "# Les aplicamos la función a cada columna categórica\n",
    "for columna in columnas_obj:\n",
    "    dataset = encoder(columna, dataset)"
   ]
  },
  {
   "cell_type": "markdown",
   "metadata": {},
   "source": [
    "Escalamos los datos para que todos estén en un rango parecido con StandardScaler, que hace uso del Z-Score"
   ]
  },
  {
   "cell_type": "code",
   "execution_count": 5,
   "metadata": {},
   "outputs": [],
   "source": [
    "# Aplicamos el StandardScaler\n",
    "scaler = StandardScaler()\n",
    "dataset_scaled = scaler.fit_transform(dataset)\n",
    "\n",
    "dataset_scaled = pd.DataFrame(dataset_scaled, columns=dataset.columns)"
   ]
  },
  {
   "cell_type": "markdown",
   "metadata": {},
   "source": [
    "### Correlaciones:\n",
    "\n",
    "Aqui mostramos los coeficientes de correlación de G3 con las demás columnas"
   ]
  },
  {
   "cell_type": "code",
   "execution_count": 6,
   "metadata": {},
   "outputs": [
    {
     "name": "stdout",
     "output_type": "stream",
     "text": [
      "G3                   1.000000\n",
      "G2                   0.904868\n",
      "G1                   0.801468\n",
      "Medu                 0.217147\n",
      "higher_yes           0.182465\n",
      "Fedu                 0.152457\n",
      "romantic_no          0.129970\n",
      "Mjob_health          0.116158\n",
      "address_U            0.105756\n",
      "sex_M                0.103456\n",
      "paid_yes             0.101996\n",
      "internet_yes         0.098483\n",
      "studytime            0.097820\n",
      "reason_reputation    0.095692\n",
      "Fjob_teacher         0.095374\n",
      "schoolsup_no         0.082788\n",
      "famsize_LE3          0.081407\n",
      "Mjob_services        0.078429\n",
      "Pstatus_A            0.058009\n",
      "Mjob_teacher         0.057712\n",
      "Fjob_health          0.057111\n",
      "reason_other         0.052008\n",
      "nursery_yes          0.051568\n",
      "famrel               0.051363\n",
      "school_GP            0.045017\n",
      "famsup_no            0.039157\n",
      "absences             0.034247\n",
      "guardian_father      0.032493\n",
      "guardian_mother      0.022338\n",
      "activities_yes       0.016100\n",
      "freetime             0.011307\n",
      "Fjob_at_home        -0.013385\n",
      "activities_no       -0.016100\n",
      "Fjob_services       -0.016108\n",
      "reason_home         -0.021359\n",
      "famsup_yes          -0.039157\n",
      "school_MS           -0.045017\n",
      "nursery_no          -0.051568\n",
      "Walc                -0.051939\n",
      "Fjob_other          -0.053483\n",
      "Dalc                -0.054660\n",
      "Pstatus_T           -0.058009\n",
      "health              -0.061335\n",
      "famsize_GT3         -0.081407\n",
      "schoolsup_yes       -0.082788\n",
      "guardian_other      -0.087774\n",
      "Mjob_other          -0.096477\n",
      "internet_no         -0.098483\n",
      "reason_course       -0.098950\n",
      "paid_no             -0.101996\n",
      "sex_F               -0.103456\n",
      "address_R           -0.105756\n",
      "Mjob_at_home        -0.115634\n",
      "traveltime          -0.117142\n",
      "romantic_yes        -0.129970\n",
      "goout               -0.132791\n",
      "age                 -0.161579\n",
      "higher_no           -0.182465\n",
      "failures            -0.360415\n",
      "Name: G3, dtype: float64\n"
     ]
    },
    {
     "data": {
      "text/plain": [
       "<Figure size 1200x800 with 0 Axes>"
      ]
     },
     "metadata": {},
     "output_type": "display_data"
    }
   ],
   "source": [
    "# Seleccionar las columnas para el modelo de regresión lineal: horas de estudio, edad, faltas, repeticiones, nota 1º, 2º y 3º evaluación\n",
    "X = dataset_scaled[['studytime', 'age', 'absences', 'failures', 'goout', 'G1', 'G2']]\n",
    "Y = dataset_scaled['G3']\n",
    "\n",
    "# Mostrar correlaciones\n",
    "plt.figure(figsize=(12, 8))\n",
    "correlation_matrix = dataset_scaled.corr()\n",
    "sorted_corr = correlation_matrix['G3'].sort_values(ascending=False)\n",
    "print(sorted_corr)\n",
    "\n",
    "# Dividir el dataset en conjunto de entrenamiento y prueba\n",
    "X_train, X_test, Y_train, Y_test = train_test_split(\n",
    "    X, Y, test_size=0.2, random_state=42)"
   ]
  },
  {
   "cell_type": "markdown",
   "metadata": {},
   "source": [
    "### Regresión lineal:"
   ]
  },
  {
   "cell_type": "code",
   "execution_count": 7,
   "metadata": {},
   "outputs": [
    {
     "name": "stdout",
     "output_type": "stream",
     "text": [
      "Linear Regression - MSE: 0.22141371761557255, R2: 0.7739276873831538\n",
      "           Coefficient\n",
      "studytime    -0.006962\n",
      "age          -0.051816\n",
      "absences      0.076069\n",
      "failures     -0.064376\n",
      "goout         0.042127\n",
      "G1            0.118637\n",
      "G2            0.795763\n"
     ]
    }
   ],
   "source": [
    "# Entrenamos modelo\n",
    "model = LinearRegression()\n",
    "model.fit(X_train, Y_train)\n",
    "\n",
    "# Realizamos predicción\n",
    "Y_pred = model.predict(X_test)\n",
    "\n",
    "# Obtenemos métricas\n",
    "# MSE: Error\n",
    "# R2: Comparación del valor obtenido de la predicción con el valor real\n",
    "mse = mean_squared_error(Y_test, Y_pred)\n",
    "r2 = r2_score(Y_test, Y_pred)\n",
    "print(f'Linear Regression - MSE: {mse}, R2: {r2}')\n",
    "coefficients = pd.DataFrame(model.coef_, X.columns, columns=['Coefficient'])\n",
    "print(coefficients)"
   ]
  },
  {
   "cell_type": "markdown",
   "metadata": {},
   "source": [
    "Métricas: <br>\n",
    "MSE: 0.2214<br>\n",
    "R<sup>2</sup>: 0.7739<br>\n",
    "\n",
    "R<sup>2</sup> bastante alto, el modelo es útil para predecir.\n",
    "\n",
    "El tiempo de estudio y las faltas parecen tener muy poco peso en las calificaciones finales.\n",
    "\n",
    "Parece que las notas bajan con la edad, cuanto más avanzada la edad, un poco peores las notas.\n",
    "\n",
    "La primera evaluación influye un poco en la final y la segunda parece influír de forma significativa."
   ]
  },
  {
   "cell_type": "markdown",
   "metadata": {},
   "source": [
    "### Regularización"
   ]
  },
  {
   "cell_type": "markdown",
   "metadata": {},
   "source": [
    "#### Lasso L1"
   ]
  },
  {
   "cell_type": "code",
   "execution_count": 8,
   "metadata": {},
   "outputs": [
    {
     "name": "stdout",
     "output_type": "stream",
     "text": [
      "Lasso Regression - MSE: 0.20237279559358892, R2: 0.7933692347372375\n",
      "           Coefficient\n",
      "studytime     0.000000\n",
      "age          -0.000000\n",
      "absences      0.000000\n",
      "failures     -0.000000\n",
      "goout         0.000000\n",
      "G1            0.051693\n",
      "G2            0.768863\n"
     ]
    },
    {
     "name": "stderr",
     "output_type": "stream",
     "text": [
      "c:\\Users\\laura.mellaramirez\\Documents\\SIAA_prediccion_lineal_notas\\.venv\\Lib\\site-packages\\sklearn\\utils\\validation.py:2732: UserWarning: X has feature names, but Lasso was fitted without feature names\n",
      "  warnings.warn(\n"
     ]
    }
   ],
   "source": [
    "lasso = Lasso(alpha=0.1)\n",
    "lasso.fit(X_train.values, Y_train.values)\n",
    "Y_pred_lasso = lasso.predict(X_test)\n",
    "mse_lasso = mean_squared_error(Y_test, Y_pred_lasso)\n",
    "r2_lasso = r2_score(Y_test, Y_pred_lasso)\n",
    "print(f'Lasso Regression - MSE: {mse_lasso}, R2: {r2_lasso}')\n",
    "coefficients_lasso = pd.DataFrame(lasso.coef_, X.columns, columns=['Coefficient'])\n",
    "print(coefficients_lasso)"
   ]
  },
  {
   "cell_type": "markdown",
   "metadata": {},
   "source": [
    "Métricas:<br>\n",
    "MSE: 0.202<br>\n",
    "R<sup>2</sup>: 0.793<br>\n",
    "\n",
    "R<sup>2</sup> más alto que el LinearRegression, el modelo es mejor para predecir.\n",
    "\n",
    "Se considera que el tiempo de estudio, las faltas, la edad y las salidas tienen poca o ninguna relación con las calificaciones finales.\n",
    "\n",
    "Parece que las notas bajan con la edad, cuanto más avanzada la edad, un poco peores las notas.\n",
    "\n",
    "La primera evaluación influye un poco en la final y la segunda parece influír de forma significativa."
   ]
  },
  {
   "cell_type": "markdown",
   "metadata": {},
   "source": [
    "#### Ridge L2"
   ]
  },
  {
   "cell_type": "code",
   "execution_count": 9,
   "metadata": {},
   "outputs": [
    {
     "name": "stdout",
     "output_type": "stream",
     "text": [
      "Ridge Regression - MSE: 0.2213930552369067, R2: 0.7739487845029684\n",
      "           Coefficient\n",
      "studytime    -0.006966\n",
      "age          -0.051859\n",
      "absences      0.076051\n",
      "failures     -0.064393\n",
      "goout         0.042084\n",
      "G1            0.119221\n",
      "G2            0.795022\n"
     ]
    },
    {
     "name": "stderr",
     "output_type": "stream",
     "text": [
      "c:\\Users\\laura.mellaramirez\\Documents\\SIAA_prediccion_lineal_notas\\.venv\\Lib\\site-packages\\sklearn\\utils\\validation.py:2732: UserWarning: X has feature names, but Ridge was fitted without feature names\n",
      "  warnings.warn(\n"
     ]
    }
   ],
   "source": [
    "ridge = Ridge(alpha=0.1)\n",
    "ridge.fit(X_train.values, Y_train.values)\n",
    "Y_pred_ridge = ridge.predict(X_test)\n",
    "mse_ridge = mean_squared_error(Y_test, Y_pred_ridge)\n",
    "r2_ridge = r2_score(Y_test, Y_pred_ridge)\n",
    "print(f'Ridge Regression - MSE: {mse_ridge}, R2: {r2_ridge}')\n",
    "coefficients_ridge = pd.DataFrame(ridge.coef_, X.columns, columns=['Coefficient'])\n",
    "print(coefficients_ridge)"
   ]
  },
  {
   "cell_type": "markdown",
   "metadata": {},
   "source": [
    "Métricas:<br>\n",
    "MSE: 0.221<br>\n",
    "R<sup>2</sup>: 0.774\n",
    "\n",
    "R<sup>2</sup> bastante alto, el modelo es útil para predecir.\n",
    "\n",
    "El tiempo de estudio y las faltas parecen tener muy poco peso en las calificaciones finales.\n",
    "\n",
    "Parece que las notas bajan con la edad, cuanto más avanzada la edad, un poco peores las notas.\n",
    "\n",
    "La primera evaluación influye un poco en la final y la segunda parece influír de forma significativa."
   ]
  },
  {
   "cell_type": "markdown",
   "metadata": {},
   "source": [
    "### ElasticNet"
   ]
  },
  {
   "cell_type": "code",
   "execution_count": 10,
   "metadata": {},
   "outputs": [
    {
     "name": "stdout",
     "output_type": "stream",
     "text": [
      "ElasticNet Regression - MSE: 0.20563177005473823, R2: 0.7900416907118467\n",
      "           Coefficient\n",
      "studytime    -0.000000\n",
      "age          -0.005769\n",
      "absences      0.022251\n",
      "failures     -0.039657\n",
      "goout         0.000000\n",
      "G1            0.148997\n",
      "G2            0.691927\n"
     ]
    },
    {
     "name": "stderr",
     "output_type": "stream",
     "text": [
      "c:\\Users\\laura.mellaramirez\\Documents\\SIAA_prediccion_lineal_notas\\.venv\\Lib\\site-packages\\sklearn\\utils\\validation.py:2732: UserWarning: X has feature names, but ElasticNet was fitted without feature names\n",
      "  warnings.warn(\n"
     ]
    }
   ],
   "source": [
    "elasticnet = ElasticNet(alpha=0.1, l1_ratio=0.5)\n",
    "elasticnet.fit(X_train.values, Y_train.values)\n",
    "Y_pred_elasticnet = elasticnet.predict(X_test)\n",
    "mse_elasticnet = mean_squared_error(Y_test, Y_pred_elasticnet)\n",
    "r2_elasticnet = r2_score(Y_test, Y_pred_elasticnet)\n",
    "print(f'ElasticNet Regression - MSE: {mse_elasticnet}, R2: {r2_elasticnet}')\n",
    "coefficients_elasticnet = pd.DataFrame(elasticnet.coef_, X.columns, columns=['Coefficient'])\n",
    "print(coefficients_elasticnet)"
   ]
  },
  {
   "cell_type": "markdown",
   "metadata": {},
   "source": [
    "Métricas: <br>\n",
    "MSE: 0.205<br>\n",
    "R<sup>2</sup>: 0.790<br>\n",
    "\n",
    "R<sup>2</sup> bastante alto, el modelo es útil para predecir.\n",
    "\n",
    "El tiempo de estudio y las faltas parecen tener muy poco peso en las calificaciones finales.\n",
    "\n",
    "Parece que las notas bajan con la edad, cuanto más avanzada la edad, un poco peores las notas.\n",
    "\n",
    "La primera evaluación influye un poco en la final y la segunda parece influír de forma significativa."
   ]
  },
  {
   "cell_type": "markdown",
   "metadata": {},
   "source": [
    "Vemos que el modelo que mejor se ajusta a la realidad es Lasso, por lo tanto es el elegido"
   ]
  },
  {
   "cell_type": "markdown",
   "metadata": {},
   "source": [
    "### Hiperparámetros"
   ]
  },
  {
   "cell_type": "markdown",
   "metadata": {},
   "source": [
    "Ajustamos Lasso con hiperparámetros"
   ]
  },
  {
   "cell_type": "code",
   "execution_count": 11,
   "metadata": {},
   "outputs": [
    {
     "name": "stdout",
     "output_type": "stream",
     "text": [
      "Mejores paramétros encontrados:  {'alpha': np.float64(0.6522117123602399)}\n",
      "Error cuadrático medio en prueba:  0.22141371761557255\n"
     ]
    },
    {
     "name": "stderr",
     "output_type": "stream",
     "text": [
      "c:\\Users\\laura.mellaramirez\\Documents\\SIAA_prediccion_lineal_notas\\.venv\\Lib\\site-packages\\sklearn\\utils\\validation.py:2732: UserWarning: X has feature names, but Lasso was fitted without feature names\n",
      "  warnings.warn(\n"
     ]
    }
   ],
   "source": [
    "param_dist = {'alpha': uniform(0.1, 100)}\n",
    "random_search = RandomizedSearchCV(lasso, param_distributions=param_dist, n_iter=100, cv=5, random_state=42)\n",
    "random_search.fit(X_train.values, Y_train.values)\n",
    "\n",
    "print(\"Mejores paramétros encontrados: \", random_search.best_params_)\n",
    "random_search.predict(X_test)\n",
    "print(\"Error cuadrático medio en prueba: \", mean_squared_error(Y_test, Y_pred))"
   ]
  },
  {
   "cell_type": "markdown",
   "metadata": {
    "vscode": {
     "languageId": "makefile"
    }
   },
   "source": [
    "Lasso tenía un error cuadrático medio de 0.202, por lo tanto NO mejora con el hiperparámetro"
   ]
  },
  {
   "cell_type": "markdown",
   "metadata": {},
   "source": [
    "Predecimos"
   ]
  },
  {
   "cell_type": "code",
   "execution_count": 12,
   "metadata": {},
   "outputs": [
    {
     "data": {
      "text/plain": [
       "array([11.37721327])"
      ]
     },
     "execution_count": 12,
     "metadata": {},
     "output_type": "execute_result"
    }
   ],
   "source": [
    "# Columnas usadas actuales ['studytime', 'age', 'absences', 'failures', 'goout', 'G1', 'G2']\n",
    "lasso.predict([[1, 15, 1, 1, 1, 12, 14]])"
   ]
  },
  {
   "cell_type": "markdown",
   "metadata": {},
   "source": [
    "Predecimos que la nota final de un estudiante de 15 años que estudia menos de 2 horas a la semana, tiene una falta, repitió una vez, sacó un 12 en la 1º evaluación y un 14 en la 2º será de 11.38"
   ]
  },
  {
   "cell_type": "markdown",
   "metadata": {},
   "source": [
    "## Conclusiones:\n",
    "\n",
    "- Todos los modelos que utilizamos tienen un poder de predicción parecido, Lasso gana pero por muy poco.\n",
    "\n",
    "- Los atributos que más influyen de mayor a menor en que suba la nota final de los estudiantes son:\n",
    "\n",
    "    La nota de la segunda evaluación.\n",
    "\n",
    "    La nota de la primera evaluación.\n",
    "    \n",
    "    Un nivel de educación alto de los padres.\n",
    "    \n",
    "    Si el estudiante no está en una relación.\n",
    "\n",
    "\n",
    "- Los atributos que más influyen de mayor a menor en que baje la nota final de los estudiantes son:\n",
    "\n",
    "    El tiempo que le lleva al estudiante llegar al centro.\n",
    "\n",
    "    Estar en una relación.\n",
    "\n",
    "    Salir muy a menudo.\n",
    "\n",
    "    La mayor edad.\n",
    "\n",
    "    Un nivel bajo de educación de los padres.\n",
    "\n",
    "    Haber repetido.\n",
    "\n",
    "    ## Problemas encontrados:\n",
    "\n",
    "        Mapa de calor no legible por la cantidad de columnas.\n",
    "\n",
    "        Al hacer el OneHotEncoder se generaban muchas columnas y salían demasiadas en la matriz de correlación\n",
    "    \n",
    "        Hicimos la correlación de las características solo con G3"
   ]
  }
 ],
 "metadata": {
  "kernelspec": {
   "display_name": ".venv",
   "language": "python",
   "name": "python3"
  },
  "language_info": {
   "codemirror_mode": {
    "name": "ipython",
    "version": 3
   },
   "file_extension": ".py",
   "mimetype": "text/x-python",
   "name": "python",
   "nbconvert_exporter": "python",
   "pygments_lexer": "ipython3",
   "version": "3.13.0"
  }
 },
 "nbformat": 4,
 "nbformat_minor": 2
}
