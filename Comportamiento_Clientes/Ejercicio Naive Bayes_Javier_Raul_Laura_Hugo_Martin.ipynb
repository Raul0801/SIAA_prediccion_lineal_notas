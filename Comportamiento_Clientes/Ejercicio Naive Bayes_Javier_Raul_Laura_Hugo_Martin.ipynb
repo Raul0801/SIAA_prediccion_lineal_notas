{
 "cells": [
  {
   "cell_type": "markdown",
   "metadata": {},
   "source": [
    "# SIAA: Tarea Naïve Bayes"
   ]
  },
  {
   "cell_type": "markdown",
   "metadata": {},
   "source": [
    "#### Autor: Javier, Raúl, Laura, Martín, Hugo"
   ]
  },
  {
   "cell_type": "code",
   "execution_count": 11,
   "metadata": {},
   "outputs": [],
   "source": [
    "import pandas as pd\n",
    "import numpy as np\n",
    "from sklearn.model_selection import train_test_split\n",
    "from sklearn.preprocessing import OneHotEncoder, MinMaxScaler\n",
    "from sklearn.naive_bayes import GaussianNB, MultinomialNB, BernoulliNB\n",
    "from sklearn.preprocessing import StandardScaler, Binarizer\n",
    "from sklearn.metrics import accuracy_score, classification_report, confusion_matrix"
   ]
  },
  {
   "cell_type": "markdown",
   "metadata": {},
   "source": [
    "#### Enlace URL del dataset obtenido:\n",
    "\n",
    "https://www.kaggle.com/datasets/denisadutca/customer-behaviour"
   ]
  },
  {
   "cell_type": "markdown",
   "metadata": {},
   "source": [
    "#### Columnas:\n",
    "\n",
    "**User ID** (Identificación del usuario)\n",
    "\n",
    "**Gender** (Género)\n",
    "\n",
    "**Age** (Edad)\n",
    "\n",
    "**EstimatedSalary** (Salario Estimado)\n",
    "\n",
    "**Purchased** (Producto Comprado)"
   ]
  },
  {
   "cell_type": "markdown",
   "metadata": {},
   "source": [
    "### Leemos el dataset"
   ]
  },
  {
   "cell_type": "code",
   "execution_count": 12,
   "metadata": {},
   "outputs": [],
   "source": [
    "ruta_del_dataset = \"Customer_Behaviour.csv\"\n",
    "df = pd.read_csv(ruta_del_dataset)"
   ]
  },
  {
   "cell_type": "markdown",
   "metadata": {},
   "source": [
    "### Convertimos los datos a numéricos"
   ]
  },
  {
   "cell_type": "code",
   "execution_count": 13,
   "metadata": {},
   "outputs": [],
   "source": [
    "encoder = OneHotEncoder()\n",
    "\n",
    "colegios_valores_encoded = encoder.fit_transform(df[[\"Gender\"]])\n",
    "colegios_columnas_encoded = encoder.get_feature_names_out([\"Gender\"])\n",
    "encoded_df = pd.DataFrame(colegios_valores_encoded.toarray(), columns=colegios_columnas_encoded)\n",
    "\n",
    "df = pd.concat([df, encoded_df], axis=1)\n",
    "df = df.drop(columns=[\"Gender\"])"
   ]
  },
  {
   "cell_type": "code",
   "execution_count": 14,
   "metadata": {},
   "outputs": [
    {
     "data": {
      "text/html": [
       "<div>\n",
       "<style scoped>\n",
       "    .dataframe tbody tr th:only-of-type {\n",
       "        vertical-align: middle;\n",
       "    }\n",
       "\n",
       "    .dataframe tbody tr th {\n",
       "        vertical-align: top;\n",
       "    }\n",
       "\n",
       "    .dataframe thead th {\n",
       "        text-align: right;\n",
       "    }\n",
       "</style>\n",
       "<table border=\"1\" class=\"dataframe\">\n",
       "  <thead>\n",
       "    <tr style=\"text-align: right;\">\n",
       "      <th></th>\n",
       "      <th>User ID</th>\n",
       "      <th>Age</th>\n",
       "      <th>EstimatedSalary</th>\n",
       "      <th>Purchased</th>\n",
       "      <th>Gender_Female</th>\n",
       "      <th>Gender_Male</th>\n",
       "    </tr>\n",
       "  </thead>\n",
       "  <tbody>\n",
       "    <tr>\n",
       "      <th>0</th>\n",
       "      <td>15624510</td>\n",
       "      <td>19</td>\n",
       "      <td>19000</td>\n",
       "      <td>0</td>\n",
       "      <td>0.0</td>\n",
       "      <td>1.0</td>\n",
       "    </tr>\n",
       "    <tr>\n",
       "      <th>1</th>\n",
       "      <td>15810944</td>\n",
       "      <td>35</td>\n",
       "      <td>20000</td>\n",
       "      <td>0</td>\n",
       "      <td>0.0</td>\n",
       "      <td>1.0</td>\n",
       "    </tr>\n",
       "    <tr>\n",
       "      <th>2</th>\n",
       "      <td>15668575</td>\n",
       "      <td>26</td>\n",
       "      <td>43000</td>\n",
       "      <td>0</td>\n",
       "      <td>1.0</td>\n",
       "      <td>0.0</td>\n",
       "    </tr>\n",
       "    <tr>\n",
       "      <th>3</th>\n",
       "      <td>15603246</td>\n",
       "      <td>27</td>\n",
       "      <td>57000</td>\n",
       "      <td>0</td>\n",
       "      <td>1.0</td>\n",
       "      <td>0.0</td>\n",
       "    </tr>\n",
       "    <tr>\n",
       "      <th>4</th>\n",
       "      <td>15804002</td>\n",
       "      <td>19</td>\n",
       "      <td>76000</td>\n",
       "      <td>0</td>\n",
       "      <td>0.0</td>\n",
       "      <td>1.0</td>\n",
       "    </tr>\n",
       "    <tr>\n",
       "      <th>...</th>\n",
       "      <td>...</td>\n",
       "      <td>...</td>\n",
       "      <td>...</td>\n",
       "      <td>...</td>\n",
       "      <td>...</td>\n",
       "      <td>...</td>\n",
       "    </tr>\n",
       "    <tr>\n",
       "      <th>395</th>\n",
       "      <td>15691863</td>\n",
       "      <td>46</td>\n",
       "      <td>41000</td>\n",
       "      <td>1</td>\n",
       "      <td>1.0</td>\n",
       "      <td>0.0</td>\n",
       "    </tr>\n",
       "    <tr>\n",
       "      <th>396</th>\n",
       "      <td>15706071</td>\n",
       "      <td>51</td>\n",
       "      <td>23000</td>\n",
       "      <td>1</td>\n",
       "      <td>0.0</td>\n",
       "      <td>1.0</td>\n",
       "    </tr>\n",
       "    <tr>\n",
       "      <th>397</th>\n",
       "      <td>15654296</td>\n",
       "      <td>50</td>\n",
       "      <td>20000</td>\n",
       "      <td>1</td>\n",
       "      <td>1.0</td>\n",
       "      <td>0.0</td>\n",
       "    </tr>\n",
       "    <tr>\n",
       "      <th>398</th>\n",
       "      <td>15755018</td>\n",
       "      <td>36</td>\n",
       "      <td>33000</td>\n",
       "      <td>0</td>\n",
       "      <td>0.0</td>\n",
       "      <td>1.0</td>\n",
       "    </tr>\n",
       "    <tr>\n",
       "      <th>399</th>\n",
       "      <td>15594041</td>\n",
       "      <td>49</td>\n",
       "      <td>36000</td>\n",
       "      <td>1</td>\n",
       "      <td>1.0</td>\n",
       "      <td>0.0</td>\n",
       "    </tr>\n",
       "  </tbody>\n",
       "</table>\n",
       "<p>400 rows × 6 columns</p>\n",
       "</div>"
      ],
      "text/plain": [
       "      User ID  Age  EstimatedSalary  Purchased  Gender_Female  Gender_Male\n",
       "0    15624510   19            19000          0            0.0          1.0\n",
       "1    15810944   35            20000          0            0.0          1.0\n",
       "2    15668575   26            43000          0            1.0          0.0\n",
       "3    15603246   27            57000          0            1.0          0.0\n",
       "4    15804002   19            76000          0            0.0          1.0\n",
       "..        ...  ...              ...        ...            ...          ...\n",
       "395  15691863   46            41000          1            1.0          0.0\n",
       "396  15706071   51            23000          1            0.0          1.0\n",
       "397  15654296   50            20000          1            1.0          0.0\n",
       "398  15755018   36            33000          0            0.0          1.0\n",
       "399  15594041   49            36000          1            1.0          0.0\n",
       "\n",
       "[400 rows x 6 columns]"
      ]
     },
     "execution_count": 14,
     "metadata": {},
     "output_type": "execute_result"
    }
   ],
   "source": [
    "df"
   ]
  },
  {
   "cell_type": "markdown",
   "metadata": {},
   "source": [
    "### Dividimos el dataset en variables predictoras (X) y variable objetivo (Y), después escalamos los datos"
   ]
  },
  {
   "cell_type": "code",
   "execution_count": 15,
   "metadata": {},
   "outputs": [],
   "source": [
    "# Separar variables predictoras (X) y objetivo (y)\n",
    "X = df[[\"Gender_Female\", \"Gender_Male\", \"Age\", \"EstimatedSalary\"]] \n",
    "Y = df[\"Purchased\"]\n",
    "\n",
    "# Dividir en conjunto de entrenamiento y prueba\n",
    "X_train, X_test, Y_train, Y_test = train_test_split(X, Y, test_size=0.2, random_state=42)"
   ]
  },
  {
   "cell_type": "markdown",
   "metadata": {},
   "source": [
    "### Creamos el modelo de naive bayes Gaussiano"
   ]
  },
  {
   "cell_type": "code",
   "execution_count": 16,
   "metadata": {},
   "outputs": [
    {
     "name": "stdout",
     "output_type": "stream",
     "text": [
      "=== Naïve Bayes Gaussiano ===\n",
      "Accuracy: 0.925\n",
      "Reporte de clasificación:\n",
      "               precision    recall  f1-score   support\n",
      "\n",
      "           0       0.93      0.96      0.94        52\n",
      "           1       0.92      0.86      0.89        28\n",
      "\n",
      "    accuracy                           0.93        80\n",
      "   macro avg       0.92      0.91      0.92        80\n",
      "weighted avg       0.92      0.93      0.92        80\n",
      "\n",
      "[[50  2]\n",
      " [ 4 24]]\n"
     ]
    }
   ],
   "source": [
    "# === 1. Naïve Bayes Gaussiano (para variables continuas) ===\n",
    "scaler = StandardScaler()\n",
    "X_train_scaled = scaler.fit_transform(X_train)\n",
    "X_test_scaled = scaler.transform(X_test)\n",
    "\n",
    "gaussian_model = GaussianNB()\n",
    "gaussian_model.fit(X_train_scaled, Y_train)\n",
    "y_pred_gaussian = gaussian_model.predict(X_test_scaled)\n",
    "\n",
    "print(\"=== Naïve Bayes Gaussiano ===\")\n",
    "print(\"Accuracy:\", accuracy_score(Y_test, y_pred_gaussian))\n",
    "print(\"Reporte de clasificación:\\n\", classification_report(Y_test, y_pred_gaussian))\n",
    "\n",
    "print(confusion_matrix(Y_test, y_pred_gaussian))"
   ]
  },
  {
   "cell_type": "markdown",
   "metadata": {},
   "source": [
    "### Creamos el modelo de naive bayes Multinomial"
   ]
  },
  {
   "cell_type": "code",
   "execution_count": 17,
   "metadata": {},
   "outputs": [
    {
     "name": "stdout",
     "output_type": "stream",
     "text": [
      "=== Naïve Bayes Multinomial ===\n",
      "Accuracy: 0.725\n",
      "Reporte de clasificación:\n",
      "               precision    recall  f1-score   support\n",
      "\n",
      "           0       0.78      0.81      0.79        52\n",
      "           1       0.62      0.57      0.59        28\n",
      "\n",
      "    accuracy                           0.72        80\n",
      "   macro avg       0.70      0.69      0.69        80\n",
      "weighted avg       0.72      0.72      0.72        80\n",
      "\n",
      "[[42 10]\n",
      " [12 16]]\n"
     ]
    }
   ],
   "source": [
    "# === 2. Naïve Bayes Multinomial (para datos de conteo) ===\n",
    "# Convertimos los datos en valores positivos ya que MultinomialNB no maneja valores negativos\n",
    "X_train_multinomial = X_train - X_train.min()\n",
    "X_test_multinomial = X_test - X_test.min()\n",
    "\n",
    "multinomial_model = MultinomialNB()\n",
    "multinomial_model.fit(X_train_multinomial, Y_train)\n",
    "y_pred_multinomial = multinomial_model.predict(X_test_multinomial)\n",
    "\n",
    "print(\"=== Naïve Bayes Multinomial ===\")\n",
    "print(\"Accuracy:\", accuracy_score(Y_test, y_pred_multinomial))\n",
    "print(\"Reporte de clasificación:\\n\", classification_report(Y_test, y_pred_multinomial))\n",
    "\n",
    "print(confusion_matrix(Y_test, y_pred_multinomial))"
   ]
  },
  {
   "cell_type": "markdown",
   "metadata": {},
   "source": [
    "### Creamos el modelo de naive bayes Bernoulli"
   ]
  },
  {
   "cell_type": "code",
   "execution_count": 18,
   "metadata": {},
   "outputs": [
    {
     "data": {
      "text/html": [
       "<div>\n",
       "<style scoped>\n",
       "    .dataframe tbody tr th:only-of-type {\n",
       "        vertical-align: middle;\n",
       "    }\n",
       "\n",
       "    .dataframe tbody tr th {\n",
       "        vertical-align: top;\n",
       "    }\n",
       "\n",
       "    .dataframe thead th {\n",
       "        text-align: right;\n",
       "    }\n",
       "</style>\n",
       "<table border=\"1\" class=\"dataframe\">\n",
       "  <thead>\n",
       "    <tr style=\"text-align: right;\">\n",
       "      <th></th>\n",
       "      <th>Gender_Female</th>\n",
       "      <th>Gender_Male</th>\n",
       "      <th>Age</th>\n",
       "      <th>EstimatedSalary</th>\n",
       "    </tr>\n",
       "  </thead>\n",
       "  <tbody>\n",
       "    <tr>\n",
       "      <th>3</th>\n",
       "      <td>1.0</td>\n",
       "      <td>0.0</td>\n",
       "      <td>27</td>\n",
       "      <td>57000</td>\n",
       "    </tr>\n",
       "    <tr>\n",
       "      <th>18</th>\n",
       "      <td>0.0</td>\n",
       "      <td>1.0</td>\n",
       "      <td>46</td>\n",
       "      <td>28000</td>\n",
       "    </tr>\n",
       "    <tr>\n",
       "      <th>202</th>\n",
       "      <td>1.0</td>\n",
       "      <td>0.0</td>\n",
       "      <td>39</td>\n",
       "      <td>134000</td>\n",
       "    </tr>\n",
       "    <tr>\n",
       "      <th>250</th>\n",
       "      <td>1.0</td>\n",
       "      <td>0.0</td>\n",
       "      <td>44</td>\n",
       "      <td>39000</td>\n",
       "    </tr>\n",
       "    <tr>\n",
       "      <th>274</th>\n",
       "      <td>1.0</td>\n",
       "      <td>0.0</td>\n",
       "      <td>57</td>\n",
       "      <td>26000</td>\n",
       "    </tr>\n",
       "    <tr>\n",
       "      <th>...</th>\n",
       "      <td>...</td>\n",
       "      <td>...</td>\n",
       "      <td>...</td>\n",
       "      <td>...</td>\n",
       "    </tr>\n",
       "    <tr>\n",
       "      <th>71</th>\n",
       "      <td>1.0</td>\n",
       "      <td>0.0</td>\n",
       "      <td>24</td>\n",
       "      <td>27000</td>\n",
       "    </tr>\n",
       "    <tr>\n",
       "      <th>106</th>\n",
       "      <td>1.0</td>\n",
       "      <td>0.0</td>\n",
       "      <td>26</td>\n",
       "      <td>35000</td>\n",
       "    </tr>\n",
       "    <tr>\n",
       "      <th>270</th>\n",
       "      <td>1.0</td>\n",
       "      <td>0.0</td>\n",
       "      <td>43</td>\n",
       "      <td>133000</td>\n",
       "    </tr>\n",
       "    <tr>\n",
       "      <th>348</th>\n",
       "      <td>0.0</td>\n",
       "      <td>1.0</td>\n",
       "      <td>39</td>\n",
       "      <td>77000</td>\n",
       "    </tr>\n",
       "    <tr>\n",
       "      <th>102</th>\n",
       "      <td>1.0</td>\n",
       "      <td>0.0</td>\n",
       "      <td>32</td>\n",
       "      <td>86000</td>\n",
       "    </tr>\n",
       "  </tbody>\n",
       "</table>\n",
       "<p>320 rows × 4 columns</p>\n",
       "</div>"
      ],
      "text/plain": [
       "     Gender_Female  Gender_Male  Age  EstimatedSalary\n",
       "3              1.0          0.0   27            57000\n",
       "18             0.0          1.0   46            28000\n",
       "202            1.0          0.0   39           134000\n",
       "250            1.0          0.0   44            39000\n",
       "274            1.0          0.0   57            26000\n",
       "..             ...          ...  ...              ...\n",
       "71             1.0          0.0   24            27000\n",
       "106            1.0          0.0   26            35000\n",
       "270            1.0          0.0   43           133000\n",
       "348            0.0          1.0   39            77000\n",
       "102            1.0          0.0   32            86000\n",
       "\n",
       "[320 rows x 4 columns]"
      ]
     },
     "execution_count": 18,
     "metadata": {},
     "output_type": "execute_result"
    }
   ],
   "source": [
    "X_train.median().mean()\n",
    "X_train"
   ]
  },
  {
   "cell_type": "code",
   "execution_count": null,
   "metadata": {},
   "outputs": [
    {
     "name": "stdout",
     "output_type": "stream",
     "text": [
      "=== Naïve Bayes Bernoulli ===\n",
      "Accuracy: 0.7875\n",
      "Reporte de clasificación:\n",
      "               precision    recall  f1-score   support\n",
      "\n",
      "           0       0.78      0.94      0.85        52\n",
      "           1       0.82      0.50      0.62        28\n",
      "\n",
      "    accuracy                           0.79        80\n",
      "   macro avg       0.80      0.72      0.74        80\n",
      "weighted avg       0.79      0.79      0.77        80\n",
      "\n",
      "[[49  3]\n",
      " [14 14]]\n"
     ]
    }
   ],
   "source": [
    "# === 3. Naïve Bayes Bernoulli (para datos binarios) ===\n",
    "binarizer_salary = Binarizer(threshold=np.median(X_train['EstimatedSalary']))\n",
    "binarizer_age = Binarizer(threshold=np.median(X_train['Age']))\n",
    "\n",
    "# Transformar los datos a binario y unirlos en un dataframe de train y otro de test\n",
    "X_train_binary_salary = pd.DataFrame(binarizer_salary.fit_transform(X_train[['EstimatedSalary']]), columns=['EstimatedSalary'])\n",
    "X_train_binary_age = pd.DataFrame(binarizer_age.fit_transform(X_train[['Age']]), columns=['Age'])\n",
    "X_train_binary = pd.concat([X_train_binary_salary, X_train_binary_age], axis=1)\n",
    "\n",
    "X_test_binary_salary = pd.DataFrame(binarizer_salary.transform(X_test[['EstimatedSalary']]), columns=['EstimatedSalary'])\n",
    "X_test_binary_age = pd.DataFrame(binarizer_age.transform(X_test[['Age']]), columns=['Age'])\n",
    "X_test_binary = pd.concat([X_test_binary_salary, X_test_binary_age], axis=1)\n",
    "\n",
    "bernoulli_model = BernoulliNB()\n",
    "bernoulli_model.fit(X_train_binary, Y_train)\n",
    "y_pred_bernoulli = bernoulli_model.predict(X_test_binary)\n",
    "\n",
    "print(\"=== Naïve Bayes Bernoulli ===\")\n",
    "print(\"Accuracy:\", accuracy_score(Y_test, y_pred_bernoulli))\n",
    "print(\"Reporte de clasificación:\\n\", classification_report(Y_test, y_pred_bernoulli))\n",
    "\n",
    "print(confusion_matrix(Y_test, y_pred_bernoulli))"
   ]
  },
  {
   "cell_type": "markdown",
   "metadata": {},
   "source": [
    "### Según la presición sacada de todos los modelos, el mejor modelo es el gaussiano para este dataset"
   ]
  }
 ],
 "metadata": {
  "kernelspec": {
   "display_name": "Python 3",
   "language": "python",
   "name": "python3"
  },
  "language_info": {
   "codemirror_mode": {
    "name": "ipython",
    "version": 3
   },
   "file_extension": ".py",
   "mimetype": "text/x-python",
   "name": "python",
   "nbconvert_exporter": "python",
   "pygments_lexer": "ipython3",
   "version": "3.12.6"
  }
 },
 "nbformat": 4,
 "nbformat_minor": 2
}
